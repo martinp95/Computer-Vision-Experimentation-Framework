{
 "cells": [
  {
   "cell_type": "code",
   "execution_count": null,
   "metadata": {},
   "outputs": [],
   "source": [
    "import sys\n",
    "import os\n",
    "import cv2\n",
    "import matplotlib.pyplot as plt\n",
    "sys.path.append(os.path.abspath(os.path.join('..','src')))\n",
    "\n",
    "from config import Config\n",
    "from data_loader import DataLoader, ImagePreprocessing\n",
    "\n",
    "from utils import Utils\n",
    "from experiment import Reporting, Experiment"
   ]
  },
  {
   "cell_type": "code",
   "execution_count": null,
   "metadata": {},
   "outputs": [],
   "source": [
    "# Get list of directories (classes)\n",
    "config = Config('../src/config.json')\n",
    "base_dir = config.get('data_path')\n",
    "classes = os.listdir(base_dir)\n",
    "\n",
    "# See classes in the dataset\n",
    "print('Classes in the dataset:', classes)"
   ]
  },
  {
   "cell_type": "code",
   "execution_count": null,
   "metadata": {},
   "outputs": [],
   "source": [
    "dataLoader = DataLoader(base_dir, 44)\n",
    "\n",
    "df = dataLoader.create_dataframe(classes)\n",
    "\n",
    "print(df.head())\n",
    "print(df.tail())"
   ]
  },
  {
   "cell_type": "code",
   "execution_count": null,
   "metadata": {},
   "outputs": [],
   "source": [
    "Utils.get_image_sizes_per_directory(df, base_dir)"
   ]
  },
  {
   "cell_type": "code",
   "execution_count": null,
   "metadata": {},
   "outputs": [],
   "source": [
    "# Call the function with the DataFrame\n",
    "Utils.display_dataset_images(df, base_dir, num_images_per_class=3)"
   ]
  },
  {
   "cell_type": "code",
   "execution_count": null,
   "metadata": {},
   "outputs": [],
   "source": [
    "Utils.plot_image_distribution(df)"
   ]
  },
  {
   "cell_type": "code",
   "execution_count": null,
   "metadata": {},
   "outputs": [],
   "source": [
    "def visualize_preprocessing(image_paths, num_images):\n",
    "    \"\"\"\n",
    "    Visualize the images before and after preprocessing.\n",
    "\n",
    "    This function loads a specified number of images, applies color segmentation\n",
    "    and contour segmentation to each, and displays the original image, the \n",
    "    color-segmented image, and the contour-segmented image side by side.\n",
    "\n",
    "    Parameters:\n",
    "    - image_paths (list): List of paths to the images to be processed.\n",
    "    - num_images (int): The number of images to display.\n",
    "\n",
    "    Returns:\n",
    "    - None\n",
    "    \"\"\"\n",
    "    n_rows = num_images\n",
    "    fig, axes = plt.subplots(n_rows, 3, figsize=(10, 2 * n_rows))\n",
    "    \n",
    "    # Set column titles\n",
    "    column_titles = ['Original Image', 'Color-Segmented Image', 'Contour-Segmented Image']\n",
    "    for ax, col_title in zip(axes[0], column_titles):\n",
    "        ax.set_title(col_title, fontsize=16)\n",
    "    \n",
    "    for idx, image_path in enumerate(image_paths[:num_images]):\n",
    "        # Load the original image\n",
    "        original_image = cv2.imread(image_path)\n",
    "        original_image_rgb = cv2.cvtColor(original_image, cv2.COLOR_BGR2RGB)\n",
    "\n",
    "        # Color segmented image\n",
    "        color_segmented_image = ImagePreprocessing.segment_image_by_color(original_image_rgb)\n",
    "\n",
    "        # Contour segmented image\n",
    "        contour_segmented_image = ImagePreprocessing.segment_image_by_contour(original_image_rgb)\n",
    "\n",
    "        # Display original image\n",
    "        axes[idx, 0].imshow(original_image_rgb)\n",
    "        axes[idx, 0].axis('off')\n",
    "\n",
    "        # Display color-segmented image\n",
    "        axes[idx, 1].imshow(color_segmented_image)\n",
    "        axes[idx, 1].axis('off')\n",
    "\n",
    "        # Display contour-segmented image\n",
    "        axes[idx, 2].imshow(contour_segmented_image)\n",
    "        axes[idx, 2].axis('off')\n",
    "    \n",
    "    plt.tight_layout()\n",
    "    plt.show()"
   ]
  },
  {
   "cell_type": "code",
   "execution_count": null,
   "metadata": {},
   "outputs": [],
   "source": [
    "# Visualize preprocessing\n",
    "image_paths = [os.path.join(base_dir, path) for path in df.head()['path']]\n",
    "visualize_preprocessing(image_paths, num_images=3)"
   ]
  },
  {
   "cell_type": "code",
   "execution_count": null,
   "metadata": {},
   "outputs": [],
   "source": [
    "experiment = Experiment('../src/config.json')\n",
    "all_results = experiment.run_experiment()"
   ]
  },
  {
   "cell_type": "code",
   "execution_count": null,
   "metadata": {},
   "outputs": [],
   "source": [
    "reporting = Reporting()\n",
    "reporting.plot_confusion_matrix_and_classification_report(all_results)"
   ]
  },
  {
   "cell_type": "code",
   "execution_count": null,
   "metadata": {},
   "outputs": [],
   "source": [
    "experiment.save_model(all_results, 'DenseNet201', None, '0.7/0.15', '../model')"
   ]
  }
 ],
 "metadata": {
  "kernelspec": {
   "display_name": "Python 3",
   "language": "python",
   "name": "python3"
  },
  "language_info": {
   "codemirror_mode": {
    "name": "ipython",
    "version": 3
   },
   "file_extension": ".py",
   "mimetype": "text/x-python",
   "name": "python",
   "nbconvert_exporter": "python",
   "pygments_lexer": "ipython3",
   "version": "3.11.0"
  }
 },
 "nbformat": 4,
 "nbformat_minor": 2
}
